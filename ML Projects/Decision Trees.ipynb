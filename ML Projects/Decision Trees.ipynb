{
 "cells": [
  {
   "cell_type": "markdown",
   "metadata": {
    "nbgrader": {
     "grade": false,
     "grade_id": "cell-6bd0516e7cb654f5",
     "locked": true,
     "schema_version": 1,
     "solution": false
    }
   },
   "source": [
    "# Exercise 2: Decision Trees\n",
    "\n",
    "In this assignment you will implement a Decision Tree algorithm as learned in class.\n",
    "\n",
    "## Read the following instructions carefully:\n",
    "\n",
    "1. This jupyter notebook contains all the step by step instructions needed for this exercise.\n",
    "1. Submission includes this notebook only with the exercise number and your ID as the filename. For example: `hw2_123456789_987654321.ipynb` if you submitted in pairs and `hw2_123456789.ipynb` if you submitted the exercise alone.\n",
    "1. Write **efficient vectorized** code whenever possible. Some calculations in this exercise take several minutes when implemented efficiently, and might take much longer otherwise. Unnecessary loops will result in point deduction.\n",
    "1. You are responsible for the correctness of your code and should add as many tests as you see fit. Tests will not be graded nor checked.\n",
    "1. Write your functions in this notebook only. **Do not create Python modules and import them**.\n",
    "1. You are allowed to use functions and methods from the [Python Standard Library](https://docs.python.org/3/library/) and [numpy](https://www.numpy.org/devdocs/reference/) only. **Do not import anything else.**\n",
    "1. Your code must run without errors. Make sure your `numpy` version is at least 1.15.4 and that you are using at least python 3.6. Changes of the configuration we provided are at your own risk. Any code that cannot run will not be graded.\n",
    "1. Write your own code. Cheating will not be tolerated.\n",
    "1. Answers to qualitative questions should be written in **markdown** cells (with $\\LaTeX$ support). Answers that will be written in commented code blocks will not be checked.\n",
    "\n",
    "## In this exercise you will perform the following:\n",
    "1. Practice OOP in python.\n",
    "2. Implement two impurity measures: Gini and Entropy.\n",
    "3. Construct a decision tree algorithm.\n",
    "4. Prune the tree to achieve better results.\n",
    "5. Visualize your results."
   ]
  },
  {
   "cell_type": "markdown",
   "metadata": {},
   "source": [
    "# I have read and understood the instructions: *** YOUR ID HERE ***"
   ]
  },
  {
   "cell_type": "code",
   "execution_count": 259,
   "metadata": {
    "nbgrader": {
     "grade": false,
     "grade_id": "cell-ed9fe7b1026e33cb",
     "locked": true,
     "schema_version": 1,
     "solution": false
    }
   },
   "outputs": [],
   "source": [
    "import numpy as np\n",
    "import pandas as pd\n",
    "import matplotlib.pyplot as plt\n",
    "\n",
    "# make matplotlib figures appear inline in the notebook\n",
    "%matplotlib inline\n",
    "plt.rcParams['figure.figsize'] = (10.0, 8.0) # set default size of plots\n",
    "plt.rcParams['image.interpolation'] = 'nearest'\n",
    "plt.rcParams['image.cmap'] = 'gray'\n",
    "\n",
    "# Ignore warnings\n",
    "import warnings\n",
    "warnings.filterwarnings('ignore')"
   ]
  },
  {
   "cell_type": "markdown",
   "metadata": {
    "nbgrader": {
     "grade": false,
     "grade_id": "cell-c6ac605270c2b091",
     "locked": true,
     "schema_version": 1,
     "solution": false
    }
   },
   "source": [
    "## Warmup - OOP in python\n",
    "\n",
    "Our desicion tree will be implemented using a dedicated python class. Python classes are very similar to classes in Java.\n",
    "\n",
    "\n",
    "You can use the following [site](https://jeffknupp.com/blog/2014/06/18/improve-your-python-python-classes-and-object-oriented-programming/) to learn about classes in python."
   ]
  },
  {
   "cell_type": "code",
   "execution_count": 260,
   "metadata": {},
   "outputs": [],
   "source": [
    "class Node(object):\n",
    "    def __init__(self, data):\n",
    "        self.data = data\n",
    "        self.children = []\n",
    "\n",
    "    def add_child(self, node):\n",
    "        self.children.append(node)"
   ]
  },
  {
   "cell_type": "code",
   "execution_count": 261,
   "metadata": {},
   "outputs": [
    {
     "data": {
      "text/plain": [
       "[<__main__.Node at 0x16535a2f070>, <__main__.Node at 0x165306ff1f0>]"
      ]
     },
     "execution_count": 261,
     "metadata": {},
     "output_type": "execute_result"
    }
   ],
   "source": [
    "n = Node(5)\n",
    "p = Node(6)\n",
    "q = Node(7)\n",
    "n.add_child(p)\n",
    "n.add_child(q)\n",
    "n.children"
   ]
  },
  {
   "cell_type": "markdown",
   "metadata": {
    "nbgrader": {
     "grade": false,
     "grade_id": "cell-2f1ceb251c649b62",
     "locked": true,
     "schema_version": 1,
     "solution": false
    }
   },
   "source": [
    "## Data preprocessing\n",
    "\n",
    "For the following exercise, we will use a dataset containing mushroom data `agaricus-lepiota.csv`. \n",
    "\n",
    "This data set includes descriptions of hypothetical samples corresponding to 23 species of gilled mushrooms in the Agaricus and Lepiota Family. Each species is identified as definitely edible, definitely poisonous, or of unknown edibility and not recommended. This latter class was combined with the poisonous\n",
    "one (=there are only two classes **edible** and **poisonous**). \n",
    "    \n",
    "The dataset contains 8124 observations with 22 features:\n",
    "1. cap-shape: bell=b,conical=c,convex=x,flat=f,knobbed=k,sunken=s\n",
    "2. cap-surface: fibrous=f,grooves=g,scaly=y,smooth=s\n",
    "3. cap-color: brown=n,buff=b,cinnamon=c,gray=g,green=r,pink=p,purple=u,red=e,white=w,yellow=y\n",
    "4. bruises: bruises=t,no=f\n",
    "5. odor: almond=a,anise=l,creosote=c,fishy=y,foul=f, musty=m,none=n,pungent=p,spicy=s\n",
    "6. gill-attachment: attached=a,descending=d,free=f,notched=n\n",
    "7. gill-spacing: close=c,crowded=w,distant=d\n",
    "8. gill-size: broad=b,narrow=n\n",
    "9. gill-color: black=k,brown=n,buff=b,chocolate=h,gray=g,green=r,orange=o,pink=p,purple=u,red=e,white=w,yellow=y\n",
    "10. stalk-shape: enlarging=e,tapering=t\n",
    "11. stalk-root: bulbous=b,club=c,cup=u,equal=e,rhizomorphs=z,rooted=r\n",
    "12. stalk-surface-above-ring: fibrous=f,scaly=y,silky=k,smooth=s\n",
    "13. stalk-surface-below-ring: fibrous=f,scaly=y,silky=k,smooth=s\n",
    "14. stalk-color-above-ring: brown=n,buff=b,cinnamon=c,gray=g,orange=o,pink=p,red=e,white=w,yellow=y\n",
    "15. stalk-color-below-ring: brown=n,buff=b,cinnamon=c,gray=g,orange=o,pink=p,red=e,white=w,yellow=y\n",
    "16. veil-type: partial=p,universal=u\n",
    "17. veil-color: brown=n,orange=o,white=w,yellow=y\n",
    "18. ring-number: none=n,one=o,two=t\n",
    "19. ring-type: cobwebby=c,evanescent=e,flaring=f,large=l,none=n,pendant=p,sheathing=s,zone=z\n",
    "20. spore-print-color: black=k,brown=n,buff=b,chocolate=h,green=r,orange=o,purple=u,white=w,yellow=y\n",
    "21. population: abundant=a,clustered=c,numerous=n,scattered=s,several=v,solitary=y\n",
    "22. habitat: grasses=g,leaves=l,meadows=m,paths=p,urban=u,waste=w,woods=d\n",
    "\n",
    "First, we will read and explore the data using pandas and the `.read_csv` method. Pandas is an open source library providing high-performance, easy-to-use data structures and data analysis tools for the Python programming language."
   ]
  },
  {
   "cell_type": "code",
   "execution_count": 262,
   "metadata": {
    "nbgrader": {
     "grade": false,
     "grade_id": "cell-d79cb4542926ad3f",
     "locked": true,
     "schema_version": 1,
     "solution": false
    },
    "scrolled": true
   },
   "outputs": [],
   "source": [
    "# load dataset\n",
    "data = pd.read_csv('agaricus-lepiota.csv')\n"
   ]
  },
  {
   "cell_type": "markdown",
   "metadata": {},
   "source": [
    "One of the advantages of the Decision Tree algorithm is that almost no preprocessing is required. However, finding missing values is always required."
   ]
  },
  {
   "cell_type": "code",
   "execution_count": 263,
   "metadata": {},
   "outputs": [],
   "source": [
    "#############################################################################\n",
    "# TODO: Find columns with missing values and remove them from the data.#\n",
    "#############################################################################\n",
    "data=data.dropna(axis='columns') # dropping every feature where we miss some values.\n",
    "#############################################################################\n",
    "#                             END OF YOUR CODE                              #\n",
    "#############################################################################"
   ]
  },
  {
   "cell_type": "markdown",
   "metadata": {},
   "source": [
    "We will split the dataset to `Training` and `Testing` datasets."
   ]
  },
  {
   "cell_type": "code",
   "execution_count": 264,
   "metadata": {},
   "outputs": [
    {
     "name": "stdout",
     "output_type": "stream",
     "text": [
      "(6093, 22)\n",
      "Training dataset shape:  (6093, 22)\n",
      "Testing dataset shape:  (2031, 22)\n",
      "(array(['e', 'p'], dtype=object), array([1028, 1003], dtype=int64))\n"
     ]
    }
   ],
   "source": [
    "from sklearn.model_selection import train_test_split\n",
    "# Making sure the last column will hold the labels\n",
    "X, y = data.drop('class', axis=1), data['class']\n",
    "X = np.column_stack([X,y])\n",
    "# split dataset using random_state to get the same split each time\n",
    "X_train, X_test = train_test_split(X, random_state=99)\n",
    "print(X_train.shape)\n",
    "\n",
    "print(\"Training dataset shape: \", X_train.shape)\n",
    "print(\"Testing dataset shape: \", X_test.shape)\n",
    "labels = X_test[:,-1]\n",
    "print(np.unique(labels, return_counts=True))"
   ]
  },
  {
   "cell_type": "code",
   "execution_count": 265,
   "metadata": {},
   "outputs": [
    {
     "data": {
      "text/plain": [
       "(8124,)"
      ]
     },
     "execution_count": 265,
     "metadata": {},
     "output_type": "execute_result"
    }
   ],
   "source": [
    "y.shape"
   ]
  },
  {
   "cell_type": "markdown",
   "metadata": {
    "nbgrader": {
     "grade": false,
     "grade_id": "cell-fd7b0191f3f1e897",
     "locked": true,
     "schema_version": 1,
     "solution": false
    }
   },
   "source": [
    "## Impurity Measures\n",
    "\n",
    "Impurity is a measure of how often a randomly chosen element from the set would be incorrectly labeled if it was randomly labeled according to the distribution of labels in the subset. Implement the functions `calc_gini` and `calc_entropy`. You are encouraged to test your implementation (10 points)."
   ]
  },
  {
   "cell_type": "code",
   "execution_count": 266,
   "metadata": {},
   "outputs": [],
   "source": [
    "def calc_gini(data):\n",
    "    \"\"\"\n",
    "    Calculate gini impurity measure of a dataset.\n",
    " \n",
    "    Input:\n",
    "    - data: any dataset where the last column holds the labels.\n",
    " \n",
    "    Returns the gini impurity.    \n",
    "    \"\"\"\n",
    "    gini = 0.0\n",
    "    ###########################################################################\n",
    "    # TODO: Implement the function.                                           #\n",
    "    ###########################################################################\n",
    "    instances = data.shape[0]\n",
    "    labels = data[:,-1]\n",
    "    unique, counts = np.unique(labels, return_counts=True) # implementing the gini function\n",
    "    gini = 1 - (1/instances**2) * sum(counts**2)\n",
    "    X = dict(zip(unique, counts))\n",
    "    ###########################################################################\n",
    "    #                             END OF YOUR CODE                            #\n",
    "    ###########################################################################\n",
    "    return gini"
   ]
  },
  {
   "cell_type": "code",
   "execution_count": 267,
   "metadata": {},
   "outputs": [],
   "source": [
    "def calc_entropy(data):\n",
    "    \"\"\"\n",
    "    Calculate the entropy of a dataset.\n",
    "\n",
    "    Input:\n",
    "    - data: any dataset where the last column holds the labels.\n",
    "\n",
    "    Returns the entropy of the dataset.    \n",
    "    \"\"\"\n",
    "    entropy = 0.0\n",
    "    ###########################################################################\n",
    "    # TODO: Implement the function.                                           #\n",
    "    ###########################################################################\n",
    "    instances = data.shape[0]\n",
    "    labels = data[:,-1]\n",
    "    unique, counts = np.unique(labels, return_counts=True) # implementing the entropy function\n",
    "    counts = counts / instances\n",
    "    entropy = sum(-1 * counts * np.log2(counts))\n",
    "    ###########################################################################\n",
    "    #                             END OF YOUR CODE                            #\n",
    "    ###########################################################################\n",
    "    return entropy"
   ]
  },
  {
   "cell_type": "code",
   "execution_count": 268,
   "metadata": {
    "scrolled": true
   },
   "outputs": [
    {
     "name": "stdout",
     "output_type": "stream",
     "text": [
      "The gini impurity of the data is: 0.4995636322379775\n",
      "The entropy for the data X is: 0.9993703627906085\n"
     ]
    }
   ],
   "source": [
    "print(\"The gini impurity of the data is: \" + str(calc_gini(X)))\n",
    "print(\"The entropy for the data X is: \" + str(calc_entropy(X)))"
   ]
  },
  {
   "cell_type": "markdown",
   "metadata": {},
   "source": [
    "## Goodness of Split\n",
    "\n",
    "Given a feature the Goodnees of Split measures the reduction in the impurity if we split the data according to the feature.\n",
    "$$\n",
    "\\Delta\\varphi(S, A) = \\varphi(S) - \\sum_{v\\in Values(A)} \\frac{|S_v|}{|S|}\\varphi(S_v)\n",
    "$$\n",
    "\n",
    "In our implementation the goodness_of_split function will return either the Goodness of Split or the Gain Ratio as learned in class. You'll control the return value with the `gain_ratio` parameter. If this parameter will set to False (the default value) it will return the regular Goodness of Split. If it will set to True it will return the Gain Ratio.\n",
    "$$\n",
    "GainRatio(S,A)=\\frac{InformationGain(S,A)}{SplitInformation(S,A)}\n",
    "$$\n",
    "Where:\n",
    "$$\n",
    "InformationGain(S,A)=Goodness\\ of\\ Split\\ calculated\\ with\\ Entropy\\ as\\ the\\ Impurity\\ function \\\\\n",
    "SplitInformation(S,A)=- \\sum_{a\\in A} \\frac{|S_a|}{|S|}\\log\\frac{|S_a|}{|S|}\n",
    "$$\n",
    "NOTE: you can add more parameters to the function and you can also add more returning variables (The given parameters and the given returning variable should not be touch). (10 Points)"
   ]
  },
  {
   "cell_type": "code",
   "execution_count": 269,
   "metadata": {},
   "outputs": [],
   "source": [
    "def goodness_of_split(data, feature, impurity_func, gain_ratio=False):\n",
    "    \"\"\"\n",
    "    Calculate the goodness of split of a dataset given a feature and impurity function.\n",
    "\n",
    "    Input:\n",
    "    - data: any dataset where the last column holds the labels.\n",
    "    - feature: the feature index.\n",
    "    - impurity func: a function that calculates the impurity.\n",
    "    - gain_ratio: goodness of split or gain ratio flag.\n",
    "\n",
    "    Returns the goodness of split (or the Gain Ration).  \n",
    "    \"\"\"\n",
    "    ###########################################################################\n",
    "    # TODO: Implement the function.                                           #\n",
    "    ###########################################################################\n",
    "    instances = data.shape[0]\n",
    "    split_info = 0\n",
    "    if gain_ratio: #If Gaio Ratio True, func = entropy\n",
    "        impurity_func = calc_entropy\n",
    "     \n",
    "    feature_column = data[:,feature]\n",
    "    goodness = impurity_func(data)\n",
    "    unique_values, counts = np.unique(feature_column, return_counts=True)\n",
    "    \n",
    "    for value,count in zip(unique_values,counts): # iterating over the unique class values for the goodness of split func\n",
    "        ratio_value = count / instances\n",
    "        same_value = data[feature_column == value]\n",
    "        goodness -= (ratio_value * impurity_func(same_value))\n",
    "    \n",
    "        if gain_ratio:\n",
    "            split_info -= ratio_value * np.log2(ratio_value)\n",
    "            \n",
    "            \n",
    "    if gain_ratio:\n",
    "        goodness =  goodness / split_info\n",
    "    ###########################################################################\n",
    "    #                             END OF YOUR CODE                            #\n",
    "    ###########################################################################\n",
    "    return goodness\n"
   ]
  },
  {
   "cell_type": "code",
   "execution_count": 270,
   "metadata": {},
   "outputs": [
    {
     "name": "stdout",
     "output_type": "stream",
     "text": [
      "Some tests for the goodness of split with different impurity function: \n",
      "Entropy value : 0.030727291723502304\n",
      "Gini measure : 0.019959657834442257\n",
      "Gain ratio : 0.01859005255861653\n"
     ]
    }
   ],
   "source": [
    "print(\"Some tests for the goodness of split with different impurity function: \")\n",
    "print(\"Entropy value : \" + str(goodness_of_split(X,0, calc_entropy)))\n",
    "print(\"Gini measure : \" + str(goodness_of_split(X,0, calc_gini)))\n",
    "print(\"Gain ratio : \" + str(goodness_of_split(X,0, calc_gini, True)))"
   ]
  },
  {
   "cell_type": "markdown",
   "metadata": {},
   "source": [
    "## Building a Decision Tree\n",
    "\n",
    "Use a Python class to construct the decision tree. Your class should support the following functionality:\n",
    "\n",
    "1. Initiating a node for a decision tree. You will need to use several class methods and class attributes and you are free to use them as you see fit. We recommend that every node will hold the feature and value used for the split and its children.\n",
    "2. Your code should support both Gini and Entropy as impurity measures. \n",
    "3. The provided data includes categorical data. In this exercise, when splitting a node create the number of children needed according to the attribute unique values.\n",
    "\n",
    "Complete the class `DecisionNode`. The structure of this class is entirely up to you. \n",
    "\n",
    "Complete the function `build_tree`. This function should get the training dataset and the impurity as inputs, initiate a root for the decision tree and construct the tree according to the procedure you learned in class. (30 points)"
   ]
  },
  {
   "cell_type": "code",
   "execution_count": 271,
   "metadata": {},
   "outputs": [],
   "source": [
    "class DecisionNode:\n",
    "    \"\"\"\n",
    "    This class will hold everything you require to construct a decision tree.\n",
    "    The structure of this class is up to you. However, you need to support basic \n",
    "    functionality as described above. It is highly recommended that you \n",
    "    first read and understand the entire exercise before diving into this class.\n",
    "    \"\"\"\n",
    "    def __init__(self, feature):\n",
    "        self.feature = feature # column index of criteria being tested\n",
    "        self.parent = None\n",
    "        self.children = []\n",
    "        self.data = None\n",
    "        self.depth = 0\n",
    "        self.pred = None\n",
    "        self.value = None\n",
    "            \n",
    "    def add_child(self, node):\n",
    "        self.children.append(node)\n",
    "        "
   ]
  },
  {
   "cell_type": "code",
   "execution_count": 272,
   "metadata": {},
   "outputs": [],
   "source": [
    "def build_tree(data, impurity, gain_ratio=False, min_samples_split=1, max_depth=1000):\n",
    "    \"\"\"\n",
    "    Build a tree using the given impurity measure and training dataset. \n",
    "    You are required to fully grow the tree until all leaves are pure. \n",
    "\n",
    "    Input:\n",
    "    - data: the training dataset.\n",
    "    - impurity: the chosen impurity measure. Notice that you can send a function\n",
    "                as an argument in python.\n",
    "    - gain_ratio: goodness of split or gain ratio flag\n",
    "    - min_samples_split: the minimum number of samples required to split an internal node\n",
    "    - max_depth: the allowable depth of the tree\n",
    "\n",
    "    Output: the root node of the tree.\n",
    "    \"\"\"\n",
    "    root = None\n",
    "    ###########################################################################\n",
    "    # TODO: Implement the function.                                           #\n",
    "    ###########################################################################\n",
    "    possible_features = [i for i in range(data.shape[1]-1)]\n",
    "    best = best_feature(data, impurity, gain_ratio, possible_features) #finding the best current feature\n",
    "    root = DecisionNode(best)\n",
    "    root.data = data\n",
    "    root.pred = find_pred_node(root) #the prediction of the root\n",
    "    possible_features.remove(best)\n",
    "    if check_homogenious(data) == True or data.shape[0] <= min_samples_split or root.depth >= max_depth or best == -1: return root \n",
    "    split_node(root, impurity, possible_features, gain_ratio, min_samples_split, max_depth) #recursively building the tree\n",
    "    ###########################################################################\n",
    "    #                             END OF YOUR CODE                            #\n",
    "    ###########################################################################\n",
    "    return root"
   ]
  },
  {
   "cell_type": "code",
   "execution_count": 273,
   "metadata": {},
   "outputs": [],
   "source": [
    "def split_node(node, impurity, possible_features, gain_ratio=False, min_samples_split=1, max_depth=1000):\n",
    "    \n",
    "    feature_column = node.data[:,node.feature]\n",
    "    unique_values = np.unique(feature_column)\n",
    "    \n",
    "    #for each value of the current node make a child which represents it\n",
    "    for value in unique_values:\n",
    "        same_value = node.data[feature_column == value]\n",
    "        best = best_feature(same_value, impurity, gain_ratio, possible_features)\n",
    "        new_node = DecisionNode(best)\n",
    "        new_node.value = value\n",
    "        new_node.data = same_value\n",
    "        new_node.parent = node\n",
    "        new_node.depth = node.depth + 1\n",
    "        node.add_child(new_node)\n",
    "        new_node.pred = find_pred_node(new_node)\n",
    "        \n",
    "        #if one of the conditions above is true then the new node is a leaf and should end the current recursive call\n",
    "        if check_homogenious(same_value) == True or same_value.shape[0] <= min_samples_split or new_node.depth >= max_depth or best == -1: \n",
    "            continue\n",
    "        \n",
    "        #the recursive call\n",
    "        x = possible_features.copy()\n",
    "        x.remove(best)\n",
    "        split_node(new_node, impurity, x, gain_ratio, min_samples_split, max_depth)"
   ]
  },
  {
   "cell_type": "code",
   "execution_count": 274,
   "metadata": {},
   "outputs": [],
   "source": [
    "#predict the nodes label\n",
    "def find_pred_node(node): \n",
    "        label_column = node.data[:,-1]\n",
    "        labels = {}\n",
    "        unique_values,counts = np.unique(label_column,return_counts = True)\n",
    "        for value,count in zip(unique_values,counts):\n",
    "            labels[value] = count\n",
    "        return max(labels,key = labels.get)"
   ]
  },
  {
   "cell_type": "code",
   "execution_count": 275,
   "metadata": {},
   "outputs": [],
   "source": [
    "#checks if the data given is homogenious\n",
    "def check_homogenious(data): \n",
    "    labels = data[:,-1]\n",
    "    unique, counts = np.unique(labels, return_counts=True)\n",
    "    for count in counts:\n",
    "        if len(unique) == 1:\n",
    "            return True\n",
    "    return False\n",
    "    "
   ]
  },
  {
   "cell_type": "code",
   "execution_count": 292,
   "metadata": {},
   "outputs": [],
   "source": [
    "# what is the best feature according to the goodness of split\n",
    "def best_feature(data, impurity, gain_ratio, possible_features): \n",
    "    if not possible_features: return 1\n",
    "    best_feature, best_val = -1, -1\n",
    "    for feature in possible_features:\n",
    "        current_val = goodness_of_split(data, feature, impurity, gain_ratio)\n",
    "        if current_val > best_val: best_val, best_feature = current_val, feature\n",
    "    if best_val == 0: return -1\n",
    "    return best_feature\n",
    "        "
   ]
  },
  {
   "cell_type": "code",
   "execution_count": 295,
   "metadata": {},
   "outputs": [],
   "source": [
    "# python supports passing a function as an argument to another function.\n",
    "tree_gini = build_tree(data=X_train, impurity=calc_gini) # gini and goodness of split\n",
    "tree_entropy = build_tree(data=X_train, impurity=calc_entropy) # entropy and goodness of split\n",
    "tree_entropy_gain_ratio = build_tree(data=X_train, impurity=calc_entropy, gain_ratio=True) # entropy and gain ratio"
   ]
  },
  {
   "cell_type": "markdown",
   "metadata": {},
   "source": [
    "## Tree evaluation\n",
    "\n",
    "Complete the functions `predict` and `calc_accuracy`. (10 points)"
   ]
  },
  {
   "cell_type": "code",
   "execution_count": 201,
   "metadata": {},
   "outputs": [],
   "source": [
    "def predict(node, instance):\n",
    "    \"\"\"\n",
    "    Predict a given instance using the decision tree\n",
    " \n",
    "    Input:\n",
    "    - root: the root of the decision tree.\n",
    "    - instance: an row vector from the dataset. Note that the last element \n",
    "                of this vector is the label of the instance.\n",
    " \n",
    "    Output: the prediction of the instance.\n",
    "    \"\"\"\n",
    "    ###########################################################################\n",
    "    # TODO: Implement the function.                                           #\n",
    "    ###########################################################################\n",
    "    for child in node.children:\n",
    "        if instance[node.feature] == child.value:\n",
    "            return predict(child, instance)\n",
    "    ###########################################################################\n",
    "    #                             END OF YOUR CODE                            #\n",
    "    ###########################################################################\n",
    "    return node.pred"
   ]
  },
  {
   "cell_type": "code",
   "execution_count": 202,
   "metadata": {},
   "outputs": [],
   "source": [
    "def calc_accuracy(node, dataset):\n",
    "    \"\"\"\n",
    "    Predict a given dataset using the decision tree\n",
    " \n",
    "    Input:\n",
    "    - node: a node in the decision tree.\n",
    "    - dataset: the dataset on which the accuracy is evaluated\n",
    " \n",
    "    Output: the accuracy of the decision tree on the given dataset (%).\n",
    "    \"\"\"\n",
    "    accuracy = 0\n",
    "    ###########################################################################\n",
    "    # TODO: Implement the function.                                           #\n",
    "    ###########################################################################\n",
    "    for instance in dataset:\n",
    "        if predict(node, instance) == instance[-1]: accuracy += 1\n",
    "    accuracy = (accuracy/dataset.shape[0])*100\n",
    "    ###########################################################################\n",
    "    #                             END OF YOUR CODE                            #\n",
    "    ###########################################################################\n",
    "    return accuracy "
   ]
  },
  {
   "cell_type": "markdown",
   "metadata": {},
   "source": [
    "After building the three trees using the training set, you should calculate the accuracy on the test set. For each tree print the training and test accuracy. Select the tree that gave you the best test accuracy. For the rest of the exercise, use that tree (when you asked to build another tree use the same impurity function and same gain_ratio flag). "
   ]
  },
  {
   "cell_type": "code",
   "execution_count": 296,
   "metadata": {},
   "outputs": [
    {
     "name": "stdout",
     "output_type": "stream",
     "text": [
      "the accuracy of X_test is:  77.5972427375677\n",
      "the accuracy of X_test is:  77.30182176267849\n",
      "the accuracy of X_test is:  78.58197932053176\n",
      "the accuracy of X_train is:  99.24503528639423\n",
      "the accuracy of X_train is:  99.40915805022156\n",
      "the accuracy of X_train is:  99.63892991957984\n"
     ]
    }
   ],
   "source": [
    "tree_dict = [tree_gini, tree_entropy, tree_entropy_gain_ratio]\n",
    "\n",
    "for tree in tree_dict:\n",
    "    print(\"the accuracy of X_test is: \", calc_accuracy(tree, X_test))\n",
    "    \n",
    "for tree in tree_dict:\n",
    "    print(\"the accuracy of X_train is: \", calc_accuracy(tree, X_train))\n",
    "    \n",
    "    "
   ]
  },
  {
   "cell_type": "markdown",
   "metadata": {},
   "source": [
    "## Depth pruning\n",
    "\n",
    "(15 points)\n",
    "\n",
    "Consider the following max_depth values: [1, 2, 3, 4, 5, 6, 7, 8]. For each value, construct a tree and prune it according to the max_depth value = don't let the tree to grow beyond this depth. Next, calculate the training and testing accuracy.<br>\n",
    "On a single plot, draw the training and testing accuracy as a function of the max_depth. Mark the best result on the graph with red circle."
   ]
  },
  {
   "cell_type": "code",
   "execution_count": 278,
   "metadata": {},
   "outputs": [],
   "source": [
    "test_dict = {}\n",
    "train_dict = {}\n",
    "for i in range(1,9):\n",
    "    train_dict[i] = calc_accuracy(build_tree(X_train, calc_entropy, gain_ratio=True, min_samples_split=1, max_depth=i), X_train)\n",
    "    test_dict[i] = calc_accuracy(build_tree(X_train, calc_entropy, gain_ratio=True, min_samples_split=1, max_depth=i), X_test)\n",
    "    \n"
   ]
  },
  {
   "cell_type": "code",
   "execution_count": 279,
   "metadata": {},
   "outputs": [
    {
     "data": {
      "image/png": "[encoded data removed]",
      "text/plain": [
       "<Figure size 720x576 with 1 Axes>"
      ]
     },
     "metadata": {
      "needs_background": "light"
     },
     "output_type": "display_data"
    }
   ],
   "source": [
    "mytraindict = train_dict.items()\n",
    "mytestdict = test_dict.items()\n",
    "x, y = zip(*mytraindict)\n",
    "a, b = zip(*mytestdict)\n",
    "max_value = max(test_dict, key=test_dict.get)\n",
    "plt.plot(x, y, label = \"T raining data set\")\n",
    "plt.plot(a, b, label = \"Testing data set\")\n",
    "c1 = plt.Circle((max_value,test_dict[max_value]), radius = 0.1, color ='r', fill = False)\n",
    "plt.gca().add_artist(c1)\n",
    "plt.legend()\n",
    "plt.xlabel('train and test accuracy')\n",
    "plt.ylabel('Max_depth')\n",
    "plt.title('Depth pruning')\n",
    "plt.show()"
   ]
  },
  {
   "cell_type": "code",
   "execution_count": 280,
   "metadata": {},
   "outputs": [
    {
     "name": "stdout",
     "output_type": "stream",
     "text": [
      "{1: 88.85606433612342, 2: 88.85606433612342, 3: 89.64385360249466, 4: 90.16904644674216, 5: 90.21828327589037, 6: 90.43164286886591, 7: 91.02248481864434, 8: 91.49844083374364}\n",
      "{1: 88.52781880846874, 2: 88.52781880846874, 3: 89.31560807483999, 4: 89.51255539143278, 5: 89.46331856228458, 6: 88.52781880846874, 7: 87.09995076317085, 8: 85.81979320531758}\n"
     ]
    }
   ],
   "source": [
    "print(train_dict)\n",
    "print(test_dict)"
   ]
  },
  {
   "cell_type": "markdown",
   "metadata": {},
   "source": [
    "\n",
    "## Min Samples Split\n",
    "\n",
    "(15 points)\n",
    "\n",
    "Consider the following min_samples_split values: [1, 5, 10, 20, 50]. For each value, construct a tree and prune it according to the min_samples_split value = don't split a node if the number of sample in it is less or equal to the min_samples_split value. Next, calculate the training and testing accuracy.<br>\n",
    "On a single plot, draw the training and testing accuracy as a function of the min_samples_split. Mark the best result on the graph with red circle. (make sure that the x-axis ticks represent the values of min_samples_split)"
   ]
  },
  {
   "cell_type": "code",
   "execution_count": 281,
   "metadata": {},
   "outputs": [
    {
     "data": {
      "image/png": "[encoded data removed]",
      "text/plain": [
       "<Figure size 720x576 with 1 Axes>"
      ]
     },
     "metadata": {
      "needs_background": "light"
     },
     "output_type": "display_data"
    }
   ],
   "source": [
    "test_dict = {}\n",
    "train_dict = {}\n",
    "for i in [1, 5, 10, 20, 50]:\n",
    "    train_dict[i] = calc_accuracy(build_tree(X_train, calc_entropy, gain_ratio=True, min_samples_split = i), X_train)\n",
    "    test_dict[i] = calc_accuracy(build_tree(X_train, calc_entropy, gain_ratio=True, min_samples_split = i), X_test)\n",
    "\n",
    "    \n",
    "mytraindict = train_dict.items()\n",
    "mytestdict = test_dict.items()\n",
    "max_value2 = max(test_dict, key=test_dict.get)\n",
    "x, y = zip(*mytraindict)\n",
    "a, b = zip(*mytestdict)\n",
    "\n",
    "plt.plot(x, y, label = \" Training data set\")\n",
    "plt.plot(a, b, label = \" Testing data set\")\n",
    "c1 = plt.Circle((max_value2,test_dict[max_value2]), radius = 1, color ='r', fill = False)\n",
    "plt.gca().add_artist(c1)\n",
    "plt.legend()\n",
    "plt.xlabel('train and test accuracy')\n",
    "plt.ylabel('Max_depth')\n",
    "plt.title('Min Samples Split')\n",
    "plt.show()"
   ]
  },
  {
   "cell_type": "code",
   "execution_count": 282,
   "metadata": {},
   "outputs": [
    {
     "name": "stdout",
     "output_type": "stream",
     "text": [
      "{1: 99.63892991957984, 5: 91.82668636139833, 10: 90.41523059248317, 20: 90.20187099950763, 50: 90.16904644674216}\n",
      "{1: 78.53274249138356, 5: 83.35795174790744, 10: 87.69079271294929, 20: 89.06942392909897, 50: 89.51255539143278}\n"
     ]
    }
   ],
   "source": [
    "print(train_dict)\n",
    "print(test_dict)"
   ]
  },
  {
   "cell_type": "markdown",
   "metadata": {},
   "source": [
    "Build the best 2 trees:\n",
    "1. tree_max_depth - the best tree according to max_depth pruning\n",
    "1. tree_min_samples_split - the best tree according to min_samples_split pruning"
   ]
  },
  {
   "cell_type": "code",
   "execution_count": 293,
   "metadata": {},
   "outputs": [],
   "source": [
    "tree_max_depth = build_tree(data=X_train, impurity=calc_entropy, gain_ratio=True, max_depth = 4)\n",
    "tree_min_samples_split = build_tree(data=X_train, impurity=calc_entropy, gain_ratio=True, min_samples_split = 50)"
   ]
  },
  {
   "cell_type": "markdown",
   "metadata": {},
   "source": [
    "## Number of Nodes\n",
    "\n",
    "(5 points)\n",
    "\n",
    "Complete the function counts_nodes and print the number of nodes in each tree and print the number of nodes of the two trees above"
   ]
  },
  {
   "cell_type": "code",
   "execution_count": 284,
   "metadata": {},
   "outputs": [],
   "source": [
    "def count_nodes(node):\n",
    "    if node.parent:\n",
    "        shimon = go_to_father(node)\n",
    "    else: shimon = node\n",
    "    return count_nodes_rec(shimon)"
   ]
  },
  {
   "cell_type": "code",
   "execution_count": 285,
   "metadata": {},
   "outputs": [],
   "source": [
    "def go_to_father(node):\n",
    "    if not node.parent: \n",
    "        return node\n",
    "    return go_to_father(node.parent)"
   ]
  },
  {
   "cell_type": "code",
   "execution_count": 286,
   "metadata": {},
   "outputs": [],
   "source": [
    "def count_nodes_rec(node):\n",
    "    \"\"\"\n",
    "    Count the number of node in a given tree\n",
    " \n",
    "    Input:\n",
    "    - node: a node in the decision tree.\n",
    " \n",
    "    Output: the number of node in the tree.\n",
    "    \"\"\"\n",
    "    ###########################################################################\n",
    "    # TODO: Implement the function.                                           #\n",
    "    ###########################################################################\n",
    "    if not node.children: return 1\n",
    "    return 1 + sum([count_nodes_rec(child) for child in node.children])\n",
    "    ###########################################################################\n",
    "    #                             END OF YOUR CODE                            #\n",
    "    ###########################################################################\n",
    "    "
   ]
  },
  {
   "cell_type": "code",
   "execution_count": 294,
   "metadata": {},
   "outputs": [
    {
     "name": "stdout",
     "output_type": "stream",
     "text": [
      "205\n",
      "349\n"
     ]
    }
   ],
   "source": [
    "print(count_nodes(tree_max_depth))\n",
    "print(count_nodes(tree_min_samples_split))"
   ]
  },
  {
   "cell_type": "markdown",
   "metadata": {},
   "source": [
    "## Print the tree\n",
    "\n",
    "Complete the function `print_tree`. Your tree should be visualized clearly. You can use the following example as a reference:\n",
    "```\n",
    "[ROOT, feature=X0],\n",
    "  [X0=a, feature=X2]\n",
    "    [X2=c, leaf]: [{1.0: 10}]\n",
    "    [X2=d, leaf]: [{0.0: 10}]\n",
    "  [X0=y, feature=X5], \n",
    "    [X5=a, leaf]: [{1.0: 5}]\n",
    "    [X5=s, leaf]: [{0.0: 10}]\n",
    "  [X0=e, leaf]: [{0.0: 25, 1.0: 50}]\n",
    "```\n",
    "In each brackets:\n",
    "* The first argument is the parent feature with the value that led to current node\n",
    "* The second argument is the selected feature of the current node\n",
    "* If the current node is a leaf, you need to print also the labels and their counts\n",
    "\n",
    "(5 points)"
   ]
  },
  {
   "cell_type": "code",
   "execution_count": 297,
   "metadata": {},
   "outputs": [],
   "source": [
    "# you can change the function signeture\n",
    "def print_tree(node, depth=0, parent_feature='ROOT', feature_val='ROOT'):\n",
    "    '''\n",
    "    prints the tree according to the example above\n",
    "\n",
    "    Input:\n",
    "    - node: a node in the decision tree\n",
    "\n",
    "    This function has no return value\n",
    "    '''\n",
    "    ###########################################################################\n",
    "    # TODO: Implement the function.                                           #\n",
    "    ###########################################################################\n",
    "    space_tabs = \"  \" * depth\n",
    "    \n",
    "    if parent_feature == \"ROOT\":\n",
    "        space_tabs += \"[ROOT, feature=X\" + str(node.feature) + \"]\"\n",
    "        \n",
    "    if node.parent and len(node.children) != 0:\n",
    "        space_tabs += \"[\" + str(parent_feature) + \"=\" + str(node.value)+ \", feature=X\" + str(feature_val) + \"]\"\n",
    "        \n",
    "    if node.parent and len(node.children) == 0:\n",
    "        label_column = node.data[:,-1]\n",
    "        labels = {}\n",
    "        unique_values,counts = np.unique(label_column,return_counts = True)\n",
    "        for value,count in zip(unique_values,counts):\n",
    "            labels[value] = count\n",
    "        space_tabs += \"[\" + str(node.parent.feature) + \"=\" + str(node.value) + \", leaf]: [\" + str(labels) + \"]\"\n",
    "    \n",
    "    \n",
    "    print(space_tabs)\n",
    "        \n",
    "    for child in node.children:\n",
    "        print_tree(child, child.depth, parent_feature=node.feature, feature_val=child.feature)\n",
    "    ###########################################################################\n",
    "    #                             END OF YOUR CODE                            #\n",
    "    ###########################################################################\n",
    "   "
   ]
  },
  {
   "cell_type": "markdown",
   "metadata": {},
   "source": [
    "print the tree with the best test accuracy and with less than 50 nodes (from the two pruning methods)"
   ]
  },
  {
   "cell_type": "code",
   "execution_count": 298,
   "metadata": {},
   "outputs": [
    {
     "name": "stdout",
     "output_type": "stream",
     "text": [
      "For depth of: 1 and for sample split of: 1 the number of nodes is: 10\n",
      "And we'll represent the tree as follow:\n",
      "\n",
      "[ROOT, feature=X4]\n",
      "  [4=a, leaf]: [{'e': 273, 'p': 31}]\n",
      "  [4=c, leaf]: [{'e': 10, 'p': 137}]\n",
      "  [4=f, leaf]: [{'e': 170, 'p': 1438}]\n",
      "  [4=l, leaf]: [{'e': 272, 'p': 27}]\n",
      "  [4=m, leaf]: [{'e': 2, 'p': 25}]\n",
      "  [4=n, leaf]: [{'e': 2332, 'p': 344}]\n",
      "  [4=p, leaf]: [{'e': 8, 'p': 175}]\n",
      "  [4=s, leaf]: [{'e': 38, 'p': 380}]\n",
      "  [4=y, leaf]: [{'e': 49, 'p': 382}]\n"
     ]
    }
   ],
   "source": [
    "#print_tree(tree_max_depth)\n",
    "dict_of_trees = {}\n",
    "max_accuracy = 0\n",
    "for depth in range(1,9):\n",
    "    for split in [1, 5, 10, 20, 50]:\n",
    "        dic_key = (depth,split)\n",
    "        the_tree = build_tree(X_train, calc_entropy, gain_ratio=True, min_samples_split = split, max_depth = depth)\n",
    "        dict_of_trees[dic_key] = count_nodes(the_tree)\n",
    "        the_accuracy = calc_accuracy(the_tree, X_test)\n",
    "        if count_nodes(the_tree) <= 50 and the_accuracy > max_accuracy:\n",
    "            max_accuracy = the_accuracy\n",
    "            the_depth = depth\n",
    "            the_split = split\n",
    "\n",
    "the_final_tree = build_tree(X_train, calc_entropy, gain_ratio=True, min_samples_split = the_split, max_depth = the_depth) \n",
    "print(\"For depth of: \" + str(the_depth) + \" and for sample split of: \" + str(the_split) + \" the number of nodes is: \" + str(count_nodes(the_final_tree)))\n",
    "print(\"And we'll represent the tree as follow:\")\n",
    "print()\n",
    "print_tree(the_final_tree)\n",
    "\n",
    "   "
   ]
  },
  {
   "cell_type": "code",
   "execution_count": null,
   "metadata": {},
   "outputs": [],
   "source": []
  },
  {
   "cell_type": "code",
   "execution_count": null,
   "metadata": {},
   "outputs": [],
   "source": []
  }
 ],
 "metadata": {
  "celltoolbar": "Create Assignment",
  "kernelspec": {
   "display_name": "Python 3",
   "language": "python",
   "name": "python3"
  },
  "language_info": {
   "codemirror_mode": {
    "name": "ipython",
    "version": 3
   },
   "file_extension": ".py",
   "mimetype": "text/x-python",
   "name": "python",
   "nbconvert_exporter": "python",
   "pygments_lexer": "ipython3",
   "version": "3.8.5"
  }
 },
 "nbformat": 4,
 "nbformat_minor": 4
}
